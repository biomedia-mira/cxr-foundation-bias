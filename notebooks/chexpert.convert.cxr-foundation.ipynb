{
 "cells": [
  {
   "cell_type": "code",
   "execution_count": null,
   "metadata": {},
   "outputs": [],
   "source": [
    "from tqdm import tqdm\n",
    "from os import listdir\n",
    "from os.path import isfile, join\n",
    "import numpy as np"
   ]
  },
  {
   "attachments": {},
   "cell_type": "markdown",
   "metadata": {},
   "source": [
    "# Convert tfrecords to numpy"
   ]
  },
  {
   "cell_type": "code",
   "execution_count": null,
   "metadata": {},
   "outputs": [],
   "source": [
    "\n",
    "tf_dir = '<PATH_TO_CXR_TENSORFLOW_EMBEDDINGS>'\n",
    "np_dir = '<PATH_TO_CXR_NUMPY_EMBEDDINGS>'\n",
    "\n",
    "files = [f for f in listdir(tf_dir) if isfile(join(tf_dir, f))]"
   ]
  },
  {
   "cell_type": "code",
   "execution_count": null,
   "metadata": {},
   "outputs": [],
   "source": [
    "import tensorflow as tf\n",
    "\n",
    "\n",
    "for f in tqdm(files, desc='Converting'):\n",
    "    \n",
    "    raw_dataset = tf.data.TFRecordDataset(join(tf_dir, f))\n",
    "\n",
    "    for raw_record in raw_dataset.take(1):\n",
    "        example = tf.train.Example()\n",
    "        example.ParseFromString(raw_record.numpy())\n",
    "        embedding = example.features.feature['embedding'].float_list.value\n",
    "        np.array(embedding).tofile(join(np_dir,f.replace('.tfrecord','.dat')))"
   ]
  },
  {
   "cell_type": "code",
   "execution_count": null,
   "metadata": {},
   "outputs": [],
   "source": []
  }
 ],
 "metadata": {
  "kernelspec": {
   "display_name": "Python 3 (ipykernel)",
   "language": "python",
   "name": "python3"
  },
  "language_info": {
   "codemirror_mode": {
    "name": "ipython",
    "version": 3
   },
   "file_extension": ".py",
   "mimetype": "text/x-python",
   "name": "python",
   "nbconvert_exporter": "python",
   "pygments_lexer": "ipython3",
   "version": "3.9.7"
  }
 },
 "nbformat": 4,
 "nbformat_minor": 4
}
